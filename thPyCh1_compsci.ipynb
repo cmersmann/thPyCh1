{
 "cells": [
  {
   "cell_type": "markdown",
   "metadata": {},
   "source": [
    "# Think Python 2 Outline:\n",
    "Look, I can make edits! \n",
    "I am editing this to write my own notes.\n",
    "Hi, this is really cool.  \n",
    "Making some more edits  \n",
    "another line  \n",
    "and another  \n",
    "# this is big text\n",
    "- item 1  \n",
    "- item 2  "
   ]
  },
  {
   "cell_type": "code",
   "execution_count": 1,
   "metadata": {},
   "outputs": [
    {
     "name": "stdout",
     "output_type": "stream",
     "text": [
      "2\n",
      "hello world\n"
     ]
    },
    {
     "data": {
      "text/plain": [
       "'another example of just one line comment using three apostrophes'"
      ]
     },
     "execution_count": 1,
     "metadata": {},
     "output_type": "execute_result"
    }
   ],
   "source": [
    "# this is a comment\n",
    "print(1+1)\n",
    "#this is useful information to a human reader/editor, but not so much\n",
    "#to the python interpreter\n",
    "print('hello world')\n",
    "\n",
    "# comment 1\n",
    "# comment 2\n",
    "# comment 3 hit ctrl-/ or command-/\n",
    "'''suppose i had a huge \n",
    "multi line comment\n",
    "which had many words in it\n",
    "and\n",
    "so many that it went off the side of the page because i was so longwinded give me a break mr. hansen'''\n",
    "'''another example of just one line comment using three apostrophes'''\n"
   ]
  },
  {
   "cell_type": "markdown",
   "metadata": {},
   "source": [
    "In Idle, we were in REPL mode.  \n",
    "There is also \"script\" mode, which is an entire program to be run start to finish.   \n",
    "Jupyter notebook Code cells are like script mode, but the final line acts like REPL mode"
   ]
  },
  {
   "cell_type": "code",
   "execution_count": 2,
   "metadata": {},
   "outputs": [
    {
     "name": "stdout",
     "output_type": "stream",
     "text": [
      "2\n",
      "4\n",
      "6\n",
      "8\n",
      "16\n"
     ]
    }
   ],
   "source": [
    "print(1+1)\n",
    "print(2+2)\n",
    "print(3+3)\n",
    "print(4+4)\n",
    "5+5\n",
    "6+6\n",
    "7+7\n",
    "print(8+8)"
   ]
  },
  {
   "cell_type": "markdown",
   "metadata": {},
   "source": [
    "The plus sign in the toolbar makes a new cell  \n",
    "The cut/copy/paste buttons work a bit like Word.\n",
    "The run button above is like shift-enter\n",
    "also see control-enter will re-run the same cell over and over\n",
    "\n",
    "the Stop button - interrupts connection to the interpreter\n",
    "if our kernel is interrupted, and we want reconnect, use the \"refresh\" button - this will clear out any values stored in memory\n",
    "to run all cells from top to bottom - use the FastForward button"
   ]
  },
  {
   "cell_type": "markdown",
   "metadata": {},
   "source": [
    "Oh look, here is a new cell to write notes!"
   ]
  },
  {
   "cell_type": "code",
   "execution_count": 3,
   "metadata": {},
   "outputs": [
    {
     "data": {
      "text/plain": [
       "3.0"
      ]
     },
     "execution_count": 3,
     "metadata": {},
     "output_type": "execute_result"
    }
   ],
   "source": [
    "9/3"
   ]
  },
  {
   "cell_type": "code",
   "execution_count": 2,
   "metadata": {},
   "outputs": [],
   "source": [
    "this_is_a_variable = 7"
   ]
  },
  {
   "cell_type": "code",
   "execution_count": 3,
   "metadata": {},
   "outputs": [
    {
     "name": "stdout",
     "output_type": "stream",
     "text": [
      "7\n"
     ]
    }
   ],
   "source": [
    "print(this_is_a_variable)"
   ]
  },
  {
   "cell_type": "markdown",
   "metadata": {},
   "source": [
    "Chapter 1"
   ]
  },
  {
   "cell_type": "markdown",
   "metadata": {},
   "source": [
    "Problem solving: the ability to formulate problems, think creatively about solutions, and express a solution clearly and accurately.  The process of learning to program is an excellent opportunity to practice these skills.\n",
    "Here are my notes!  Hooray!"
   ]
  },
  {
   "cell_type": "markdown",
   "metadata": {},
   "source": [
    "What is a Program?\n",
    "******\n",
    "What is it to you? ________________\n",
    "- input\n",
    "- output\n",
    "- math\n",
    "- conditional execution - if condition1 is true, do tthing 1; otherwise, do thing2\n",
    "- repetition\n",
    "    print('hello world') x 100\n",
    "    loops\n"
   ]
  },
  {
   "cell_type": "markdown",
   "metadata": {},
   "source": [
    "The Environment that you write Python:\n",
    "***\n",
    "- directly into interpreter - the REPL\n",
    "- IDLE\n",
    "- web-based eg. PythonAnywhere\n",
    "- Local Development Environment, like Sublime Text or PyCharm\n",
    "- Local/web hybrid: Jupyter"
   ]
  },
  {
   "cell_type": "code",
   "execution_count": 4,
   "metadata": {},
   "outputs": [
    {
     "name": "stdout",
     "output_type": "stream",
     "text": [
      "Hello World Mr. Hansen!\n"
     ]
    }
   ],
   "source": [
    "#First Program!\n",
    "print(\"Hello World Mr. Hansen!\")"
   ]
  },
  {
   "cell_type": "code",
   "execution_count": 1,
   "metadata": {},
   "outputs": [
    {
     "name": "stdout",
     "output_type": "stream",
     "text": [
      "42\n",
      "42\n",
      "6*7\n",
      "6*7\n",
      "Mr. Hansen's coffee.\n",
      "Mr. Hansen said \"hello!\"\n",
      "Mr. Hansen's mac\\computer is \"awesome\".\n",
      "8\n",
      "0.6000000000000001\n",
      "2.0\n",
      "False\n",
      "True\n",
      "5\n",
      "True\n",
      "3.14159\n",
      "3.141592653589793\n",
      "6*7= 42\n",
      "6*7=42\n"
     ]
    }
   ],
   "source": [
    "# octothorpe \n",
    "#lines beginning with one of these are a Comment\n",
    "#Arithmetic Operators:\n",
    "print(40+2)\n",
    "print(6*7)\n",
    "print(\"6*7\")\n",
    "print('6*7')\n",
    "print(\"Mr. Hansen's coffee.\")\n",
    "print('Mr. Hansen said \"hello!\"')\n",
    "print(\"Mr. Hansen's mac\\\\computer is \\\"awesome\\\".\")\n",
    "print(2**3) #This is exponentiation!  ^ is XOR\n",
    "#Fill in your own: ______________\n",
    "print(2-7 / 5)\n",
    "print(4/2)\n",
    "print(1==2)\n",
    "print(1<2)\n",
    "x = 5 # x gets the value of 5\n",
    "var1=2 \n",
    "print(x)\n",
    "\n",
    "#new thing\n",
    "print(x==5)\n",
    "\n",
    "pi = 3.14159\n",
    "print(pi)\n",
    "\n",
    "import math\n",
    "print(math.pi)\n",
    "print(\"6*7=\",6*7)\n",
    "print(\"6*7=\" + str(6*7))\n",
    "#What just happened with the str above?\n",
    "# data type Casting\n"
   ]
  },
  {
   "cell_type": "markdown",
   "metadata": {},
   "source": [
    "#Values and Types:\n",
    "- String (str):\n",
    "- Integer (int):\n",
    "- Floating-point (float):\n",
    "- Binary (bin):\n",
    "- and more\n",
    "\n",
    "\n"
   ]
  },
  {
   "cell_type": "code",
   "execution_count": 13,
   "metadata": {},
   "outputs": [
    {
     "name": "stdout",
     "output_type": "stream",
     "text": [
      "6*7= 42\n",
      "55\n",
      "10\n",
      "hellohellohellohellohellohellohellohellohellohello\n",
      "27.5\n",
      "word word word word word word word \n",
      "7777777\n",
      "2\n",
      "2.0\n",
      "99999\n"
     ]
    }
   ],
   "source": [
    "#incompatible types?\n",
    "1+1 # an int + an int = ok\n",
    "#\"one\"+1 #this was a string +'ed with an integer = not ok!\n",
    "'two'+\"one\" #concatenation cat for short = ok!\n",
    "\n",
    "print(\"6*7=\",6*7)\n",
    "\n",
    "##Casting\n",
    "mystring = \"5\"\n",
    "print(mystring+mystring)\n",
    "print(int(mystring)+int(mystring))\n",
    "print('hello'*10)\n",
    "print(int(mystring*2)/2)#\n",
    "x = 7\n",
    "print(\"word \"*7)\n",
    "print(str(x)*7)\n",
    "myfloat = 2.5\n",
    "print(int(myfloat))\n",
    "print(float(2))\n",
    "print(str(99999))"
   ]
  },
  {
   "cell_type": "markdown",
   "metadata": {},
   "source": [
    "Natural Languages vs. Formal Languages\n",
    "- Parsing / Ambiguity /Redundancy /literalness\n",
    "- poetry/prose/programs\n",
    "\n",
    "Semantics vs. Syntax\n",
    "Semantics of a program/sentence/idea - the meaning of it.\n",
    "Syntax of a program/sentence/idea - the structure/grammar/technical rules of it.  \n",
    "\n",
    "                        Syntax.       Semantics\n",
    "                    \n",
    "Stand up, then jump.     good.          good    \n",
    "Up stand jump!           bad.           good (enough)  \n",
    "Jump, then stand.        good.          bad.   \n",
    "~\"jump jump jump zebra!   bad.          bad.   \n",
    "                    \n",
    "\n",
    "Debugging\n"
   ]
  },
  {
   "cell_type": "markdown",
   "metadata": {},
   "source": [
    "***\n",
    "---Exercises----\n",
    "***"
   ]
  },
  {
   "cell_type": "markdown",
   "metadata": {},
   "source": [
    "Exercise 1\n",
    "- 1) In a print statement, what happens if you leave out one or both of the parentheses?\n",
    "- 2) If you are trying to print a string, what happens if you leave out one/both of the quotation marks (or apostrophes)?\n",
    "- 3) You can use a minus sign to make a negative number like -2. What happens if you put a plus sign before a number? What about 2++2?\n",
    "- 4) In math notation, leading zeros are ok, as in 09. What happens if you try this in Python? What about 011?\n",
    "- 5) What happens if you have two values with no operator between them?"
   ]
  },
  {
   "cell_type": "code",
   "execution_count": null,
   "metadata": {},
   "outputs": [],
   "source": []
  },
  {
   "cell_type": "markdown",
   "metadata": {},
   "source": [
    "Exercise 2\n",
    "See text!"
   ]
  },
  {
   "cell_type": "markdown",
   "metadata": {},
   "source": [
    "Exercise 2  \n",
    "Start the Python interpreter and use it as a calculator.\n",
    "How many seconds are there in 42 minutes 42 seconds?\n",
    "How many miles are there in 10 kilometers? Hint: there are 1.61 kilometers in a mile.\n",
    "If you run a 10 kilometer race in 42 minutes 42 seconds, what is your average pace (time per mile in minutes and seconds)? What is your average speed in miles per hour?"
   ]
  },
  {
   "cell_type": "code",
   "execution_count": 19,
   "metadata": {},
   "outputs": [],
   "source": [
    "# can you make a number to break Python?\n",
    "# How could you easily write 'hello hello hello ...' 100 times?\n"
   ]
  },
  {
   "cell_type": "code",
   "execution_count": 1,
   "metadata": {},
   "outputs": [
    {
     "name": "stdout",
     "output_type": "stream",
     "text": [
      "100\n",
      "-16\n",
      "2436\n",
      "4258\n"
     ]
    }
   ],
   "source": [
    "# store 42 in x, store 58 in y.  find their sum, different, product\n",
    "#can you string-concatenate them?\n",
    "\n",
    "x=42\n",
    "y=58\n",
    "print(x+y)\n",
    "print(x-y)\n",
    "print(x*y)\n",
    "###\n",
    "print(str(x)+str(y))"
   ]
  },
  {
   "cell_type": "code",
   "execution_count": 13,
   "metadata": {},
   "outputs": [
    {
     "data": {
      "text/plain": [
       "0.0"
      ]
     },
     "execution_count": 13,
     "metadata": {},
     "output_type": "execute_result"
    }
   ],
   "source": [
    "import math\n",
    "math.isfinite(10)\n",
    "x=float('inf')\n",
    "math.isfinite(-x)\n",
    "0/x\n"
   ]
  },
  {
   "cell_type": "code",
   "execution_count": 18,
   "metadata": {},
   "outputs": [],
   "source": [
    "x1 = 1\n",
    "x2 = 5\n",
    "x3 = 7\n",
    "my3xs = x1 + x2 + x3\n",
    "MyFavoriteNumber = 11 #camel case\n",
    "my_favorite_number = 11 #snake case\n"
   ]
  },
  {
   "cell_type": "code",
   "execution_count": 20,
   "metadata": {},
   "outputs": [
    {
     "data": {
      "text/plain": [
       "True"
      ]
     },
     "execution_count": 20,
     "metadata": {},
     "output_type": "execute_result"
    }
   ],
   "source": [
    "float('inf') == math.inf"
   ]
  },
  {
   "cell_type": "code",
   "execution_count": 24,
   "metadata": {},
   "outputs": [
    {
     "data": {
      "text/plain": [
       "False"
      ]
     },
     "execution_count": 24,
     "metadata": {},
     "output_type": "execute_result"
    }
   ],
   "source": [
    "float('inf') is math.inf"
   ]
  },
  {
   "cell_type": "code",
   "execution_count": 25,
   "metadata": {},
   "outputs": [
    {
     "ename": "OverflowError",
     "evalue": "cannot convert float infinity to integer",
     "output_type": "error",
     "traceback": [
      "\u001b[0;31m---------------------------------------------------------------------------\u001b[0m",
      "\u001b[0;31mOverflowError\u001b[0m                             Traceback (most recent call last)",
      "\u001b[0;32m<ipython-input-25-5823e2180c1f>\u001b[0m in \u001b[0;36m<module>\u001b[0;34m\u001b[0m\n\u001b[0;32m----> 1\u001b[0;31m \u001b[0mint\u001b[0m\u001b[0;34m(\u001b[0m\u001b[0mfloat\u001b[0m\u001b[0;34m(\u001b[0m\u001b[0;34m'inf'\u001b[0m\u001b[0;34m)\u001b[0m\u001b[0;34m)\u001b[0m\u001b[0;34m\u001b[0m\u001b[0;34m\u001b[0m\u001b[0m\n\u001b[0m",
      "\u001b[0;31mOverflowError\u001b[0m: cannot convert float infinity to integer"
     ]
    }
   ],
   "source": [
    "int(float('inf'))"
   ]
  },
  {
   "cell_type": "code",
   "execution_count": 38,
   "metadata": {},
   "outputs": [
    {
     "data": {
      "text/plain": [
       "True"
      ]
     },
     "execution_count": 38,
     "metadata": {},
     "output_type": "execute_result"
    }
   ],
   "source": [
    "x=10\n",
    "y=10.0\n",
    "x is y"
   ]
  },
  {
   "cell_type": "code",
   "execution_count": 37,
   "metadata": {},
   "outputs": [
    {
     "data": {
      "text/plain": [
       "False"
      ]
     },
     "execution_count": 37,
     "metadata": {},
     "output_type": "execute_result"
    }
   ],
   "source": [
    "z= 10.0\n",
    "z is y"
   ]
  },
  {
   "cell_type": "code",
   "execution_count": 21,
   "metadata": {},
   "outputs": [
    {
     "data": {
      "text/plain": [
       "'inf'"
      ]
     },
     "execution_count": 21,
     "metadata": {},
     "output_type": "execute_result"
    }
   ],
   "source": [
    "str(math.inf)"
   ]
  },
  {
   "cell_type": "code",
   "execution_count": null,
   "metadata": {},
   "outputs": [],
   "source": []
  }
 ],
 "metadata": {
  "kernelspec": {
   "display_name": "Python 3",
   "language": "python",
   "name": "python3"
  },
  "language_info": {
   "codemirror_mode": {
    "name": "ipython",
    "version": 3
   },
   "file_extension": ".py",
   "mimetype": "text/x-python",
   "name": "python",
   "nbconvert_exporter": "python",
   "pygments_lexer": "ipython3",
   "version": "3.8.3"
  }
 },
 "nbformat": 4,
 "nbformat_minor": 4
}

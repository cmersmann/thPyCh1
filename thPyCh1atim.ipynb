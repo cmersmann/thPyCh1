{
 "cells": [
  {
   "cell_type": "markdown",
   "metadata": {},
   "source": [
    "Think Python 2 Outline:  \n",
    "Hey I can edit this and write my own notes, neat!  \n",
    "jhflk ahg a\n",
    "hgalhgla\n",
    "# This text is big!\n",
    "## So is this, but different\n",
    "- item1\n",
    "- item2\n",
    "- item3"
   ]
  },
  {
   "cell_type": "raw",
   "metadata": {},
   "source": [
    "Here is more stuff\n",
    "# try it here?"
   ]
  },
  {
   "cell_type": "markdown",
   "metadata": {},
   "source": [
    "# Chapter 1"
   ]
  },
  {
   "cell_type": "markdown",
   "metadata": {},
   "source": [
    "Problem solving: the ability to formulate problems, think creatively about solutions, and express a solution clearly and accurately.  The process of learning to program is an excellent opportunity to practice these skills."
   ]
  },
  {
   "cell_type": "markdown",
   "metadata": {},
   "source": [
    "What is a Program?\n",
    "******\n",
    "What is it to you? ________________\n",
    "- input\n",
    "- output\n",
    "- math\n",
    "- conditional execution - if condition1 is true, do tthing 1; otherwise, do thing2\n",
    "- repetition\n",
    "    print('hello world') x 100\n",
    "    loops\n"
   ]
  },
  {
   "cell_type": "markdown",
   "metadata": {},
   "source": [
    "The Environment that you write Python:\n",
    "***\n",
    "- directly into interpreter - the REPL\n",
    "- IDLE\n",
    "- web-based eg. PythonAnywhere\n",
    "- Local Development Environment, like Sublime Text or PyCharm\n",
    "- Local/web hybrid: Jupyter\n",
    "- another thing that I think is important"
   ]
  },
  {
   "cell_type": "code",
   "execution_count": 1,
   "metadata": {},
   "outputs": [
    {
     "name": "stdout",
     "output_type": "stream",
     "text": [
      "Hello World Mr. Hansen!\n"
     ]
    }
   ],
   "source": [
    "#First Program!\n",
    "print(\"Hello World Mr. Hansen!\")"
   ]
  },
  {
   "cell_type": "code",
   "execution_count": 32,
   "metadata": {},
   "outputs": [
    {
     "name": "stdout",
     "output_type": "stream",
     "text": [
      "2\n"
     ]
    },
    {
     "data": {
      "text/plain": [
       "6"
      ]
     },
     "execution_count": 32,
     "metadata": {},
     "output_type": "execute_result"
    }
   ],
   "source": [
    "print(1+1)\n",
    "2+2\n",
    "3+3"
   ]
  },
  {
   "cell_type": "markdown",
   "metadata": {},
   "source": [
    "# Toolbar\n",
    "- plus sign - makes a new cell\n",
    "- save button - save and checkpoint \n",
    "- cut/copy/paste - for cell\n",
    "- up/down arrows - move a cell up and down\n",
    "- play - run a single cell and move on to the next (shift-enter)\n",
    "- (what if i want to run a single cell and not move on?  - control-enter)\n",
    "- stop - interrupt the kernel - stops the connection between notebook and the interpreter\n",
    "- refresh - restart the kernel - wipes out all variables\n",
    "- fast-forward - restart the kernel and run all cells from top to bottom"
   ]
  },
  {
   "cell_type": "code",
   "execution_count": 33,
   "metadata": {},
   "outputs": [
    {
     "name": "stdout",
     "output_type": "stream",
     "text": [
      "42\n",
      "42\n",
      "8\n",
      "1.5\n",
      "2.0\n",
      "here is some code\n"
     ]
    }
   ],
   "source": [
    "# octothorpe \n",
    "#lines beginning with one of these are a Comment\n",
    "#Arithmetic Operators:\n",
    "print(40+2)\n",
    "print(6*7)\n",
    "print(2**3) #This is exponentiation!  ^ is XOR\n",
    "print(3/2)\n",
    "print(4/2)\n",
    "#Fill in your own: ______________\n",
    "# i have a \n",
    "# bunch\n",
    "# of \n",
    "# comments over\n",
    "# multiple lines (using command-/ or ctrl-/)\n",
    "'''another way\n",
    "to block comment is with triple-apostrophe'''\n",
    "print('here is some code') #here is some documentation about that code"
   ]
  },
  {
   "cell_type": "markdown",
   "metadata": {},
   "source": [
    "#Values and Types:\n",
    "- String (str):\n",
    "   here are my notes\n",
    "- Integer (int):\n",
    "- Floating-point (float):\n",
    "- Binary (bin):\n",
    "- and more\n",
    "\n",
    "Python is very forgiving about data types (as much as it can be reasonably)  \n",
    "stuff on a new line we can make this new line by ending prior line with two spaces\n"
   ]
  },
  {
   "cell_type": "code",
   "execution_count": 9,
   "metadata": {},
   "outputs": [
    {
     "name": "stdout",
     "output_type": "stream",
     "text": [
      "Hello\n",
      "World\n",
      "This is Mr. Hansen's computer.\n",
      "Mr. Hansen's cat sarcastically said \"great\\ idea111one!\"\n",
      "before\n",
      "after\n",
      "40+2\n",
      "5.0\n",
      "34\n",
      "True\n",
      "False\n",
      "True\n",
      "True\n",
      "\n",
      "2 + 3\n",
      "5\n",
      "True\n",
      "55\n"
     ]
    }
   ],
   "source": [
    "#here's a string:\n",
    "print(\"Hello\")\n",
    "print('World')\n",
    "print(\"This is Mr. Hansen's computer.\")\n",
    "print('Mr. Hansen\\'s cat sarcastically said \"great\\\\ idea111one!\"')\n",
    "print('before\\nafter')\n",
    "print(\"40+2\")\n",
    "print(2.0 + 3)\n",
    "print(\"3\" + \"4\") #concatenation or cat for short\n",
    "\n",
    "print(True)\n",
    "print(False)\n",
    "print(2-1 == 1) #two =='s is for comparison\n",
    "x = 3 # one = is for variable assignment. - \"x gets 3\"\n",
    "print(x == 3)\n",
    "print()\n",
    "mystring = \"2 + 3\"\n",
    "print(mystring)\n",
    "print(eval(mystring))\n",
    "print(\"apple\" > \"Apple\")\n",
    "#1 aardvark\n",
    "#2 abba\n",
    "#3 action\n",
    "#...\n",
    "#25361641 babble\n",
    "dogs = 9\n",
    "cats = 7\n",
    "print(eval('3*dogs + 4*cats'))\n",
    "#3*dogs + 4*cats"
   ]
  },
  {
   "cell_type": "markdown",
   "metadata": {},
   "source": [
    "Natural Languages vs. Formal Languages  \n",
    " Parsing  \n",
    " Ambiguity  \n",
    " Redundancy  \n",
    " literalness  \n",
    " poetry/prose/programs  \n",
    "\n",
    "Semantics vs. Syntax  \n",
    "semantics of a statement - its meaning  \n",
    "syntax of a statement - the technical/gramattical/spelling rules that govern making a \"correct\" statement\n",
    "\n",
    "\n",
    "                              syntax.       semantics\n",
    "1) Stand up, then jump!     adequate.       at least adequate if not better.  \n",
    "2) up stand jump              bad            adequate   \n",
    "3) Jump, then stand up!        adequate.      bad   \n",
    "4) jump jump jump zebra.       bad.           bad   \n",
    "\n",
    "\n",
    "Debugging\n"
   ]
  },
  {
   "cell_type": "markdown",
   "metadata": {},
   "source": [
    "*******\n",
    "---Exercises----\n",
    "***"
   ]
  },
  {
   "cell_type": "markdown",
   "metadata": {},
   "source": [
    "Exercise 1\n",
    "- 1) In a print statement, what happens if you leave out one or both of the parentheses?\n",
    "- 2) If you are trying to print a string, what happens if you leave out one/both of the quotation marks (or apostrophes)?\n",
    "- 3) You can use a minus sign to make a negative number like -2. What happens if you put a plus sign before a number? What about 2++2?\n",
    "- 4) In math notation, leading zeros are ok, as in 09. What happens if you try this in Python? What about 011?\n",
    "- 5) What happens if you have two values with no operator between them?"
   ]
  },
  {
   "cell_type": "code",
   "execution_count": 1,
   "metadata": {},
   "outputs": [
    {
     "ename": "SyntaxError",
     "evalue": "unexpected EOF while parsing (<ipython-input-1-b2a1b002bdae>, line 2)",
     "output_type": "error",
     "traceback": [
      "\u001b[0;36m  File \u001b[0;32m\"<ipython-input-1-b2a1b002bdae>\"\u001b[0;36m, line \u001b[0;32m2\u001b[0m\n\u001b[0;31m    print(\"hello\"\u001b[0m\n\u001b[0m                 ^\u001b[0m\n\u001b[0;31mSyntaxError\u001b[0m\u001b[0;31m:\u001b[0m unexpected EOF while parsing\n"
     ]
    }
   ],
   "source": [
    "#1 \n",
    "print(\"hello\""
   ]
  },
  {
   "cell_type": "code",
   "execution_count": 3,
   "metadata": {},
   "outputs": [
    {
     "ename": "SyntaxError",
     "evalue": "Missing parentheses in call to 'print'. Did you mean print(\"hello\"))? (<ipython-input-3-55c4ea27f280>, line 1)",
     "output_type": "error",
     "traceback": [
      "\u001b[0;36m  File \u001b[0;32m\"<ipython-input-3-55c4ea27f280>\"\u001b[0;36m, line \u001b[0;32m1\u001b[0m\n\u001b[0;31m    print \"hello\")\u001b[0m\n\u001b[0m          ^\u001b[0m\n\u001b[0;31mSyntaxError\u001b[0m\u001b[0;31m:\u001b[0m Missing parentheses in call to 'print'. Did you mean print(\"hello\"))?\n"
     ]
    }
   ],
   "source": [
    "print \"hello\")"
   ]
  },
  {
   "cell_type": "markdown",
   "metadata": {},
   "source": [
    "Exercise 2\n",
    "See text!\n",
    "\n",
    "Exercise 2  \n",
    "- Start the Python interpreter and use it as a calculator.\n",
    "- How many seconds are there in 42 minutes 42 seconds?\n",
    "- How many miles are there in 10 kilometers? Hint: there are 1.61 kilometers in a mile.\n",
    "- If you run a 10 kilometer race in 42 minutes 42 seconds, what is your average pace (time per mile in minutes -and seconds)? What is your average speed in miles per hour?"
   ]
  },
  {
   "cell_type": "code",
   "execution_count": 10,
   "metadata": {},
   "outputs": [
    {
     "name": "stdout",
     "output_type": "stream",
     "text": [
      "2562\n",
      "6.211180124223602\n",
      "412.482 sec/mile, or  6.0 min 52.48200000000003 sec / mile\n",
      "0.14546089283896022 mi/hour\n"
     ]
    }
   ],
   "source": [
    "print(42*60 + 42)\n",
    "t = 42*60 + 42\n",
    "print(10 * 1/ 1.61)\n",
    "d = 10 * 1/ 1.61\n",
    "print(t/d, \"sec/mile, or \",t/d//60,\"min\",(t/d)%60,\"sec / mile\")\n",
    "print(d/(t/60),\"mi/hour\")"
   ]
  },
  {
   "cell_type": "markdown",
   "metadata": {},
   "source": [
    "Here are my notes"
   ]
  },
  {
   "cell_type": "code",
   "execution_count": 31,
   "metadata": {},
   "outputs": [
    {
     "name": "stdout",
     "output_type": "stream",
     "text": [
      "Here's more python code but it's edited!!!\n"
     ]
    }
   ],
   "source": [
    "print(\"Here's more python code but it's edited!!!\")\n",
    "#this is a comment"
   ]
  },
  {
   "cell_type": "markdown",
   "metadata": {},
   "source": [
    "** Here's more python code"
   ]
  },
  {
   "cell_type": "markdown",
   "metadata": {},
   "source": []
  },
  {
   "cell_type": "markdown",
   "metadata": {},
   "source": [
    "Here's my new cell\n",
    "---\n",
    "- item 1\n",
    "- item 2"
   ]
  },
  {
   "cell_type": "code",
   "execution_count": 14,
   "metadata": {},
   "outputs": [
    {
     "data": {
      "text/plain": [
       "3"
      ]
     },
     "execution_count": 14,
     "metadata": {},
     "output_type": "execute_result"
    }
   ],
   "source": [
    "x = (1 * \n",
    "    3)\n",
    "x"
   ]
  },
  {
   "cell_type": "code",
   "execution_count": 22,
   "metadata": {},
   "outputs": [
    {
     "ename": "SyntaxError",
     "evalue": "invalid syntax (<ipython-input-22-7cfc5e7bdf4f>, line 1)",
     "output_type": "error",
     "traceback": [
      "\u001b[0;36m  File \u001b[0;32m\"<ipython-input-22-7cfc5e7bdf4f>\"\u001b[0;36m, line \u001b[0;32m1\u001b[0m\n\u001b[0;31m    42 6\u001b[0m\n\u001b[0m       ^\u001b[0m\n\u001b[0;31mSyntaxError\u001b[0m\u001b[0;31m:\u001b[0m invalid syntax\n"
     ]
    }
   ],
   "source": [
    "42 6"
   ]
  },
  {
   "cell_type": "code",
   "execution_count": 32,
   "metadata": {},
   "outputs": [
    {
     "name": "stdout",
     "output_type": "stream",
     "text": [
      "do you still remember x? 3\n"
     ]
    }
   ],
   "source": [
    "print(\"do you still remember x?\",x)"
   ]
  },
  {
   "cell_type": "code",
   "execution_count": null,
   "metadata": {},
   "outputs": [],
   "source": []
  }
 ],
 "metadata": {
  "kernelspec": {
   "display_name": "Python 3",
   "language": "python",
   "name": "python3"
  },
  "language_info": {
   "codemirror_mode": {
    "name": "ipython",
    "version": 3
   },
   "file_extension": ".py",
   "mimetype": "text/x-python",
   "name": "python",
   "nbconvert_exporter": "python",
   "pygments_lexer": "ipython3",
   "version": "3.8.3"
  }
 },
 "nbformat": 4,
 "nbformat_minor": 4
}
